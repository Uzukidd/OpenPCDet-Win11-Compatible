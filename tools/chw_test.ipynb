{
 "cells": [
  {
   "cell_type": "code",
   "execution_count": 2,
   "metadata": {},
   "outputs": [],
   "source": [
    "from pcdet.config import cfg_from_yaml_file, cfg\n",
    "from pcdet.utils import common_utils\n",
    "from pcdet.models import build_network\n",
    "from pcdet.datasets import DatasetTemplate\n",
    "from pathlib import Path\n",
    "import numpy as np\n",
    "import glob"
   ]
  },
  {
   "cell_type": "code",
   "execution_count": 3,
   "metadata": {},
   "outputs": [],
   "source": [
    "cfg_file = \"./cfgs/kitti_models/pointrcnn.yaml\""
   ]
  },
  {
   "cell_type": "markdown",
   "metadata": {},
   "source": [
    "![data_vs_model](../docs/multiple_models_demo.png)"
   ]
  },
  {
   "cell_type": "code",
   "execution_count": 4,
   "metadata": {},
   "outputs": [
    {
     "data": {
      "text/plain": [
       "{'ROOT_DIR': PosixPath('/home/ksas/chw_space/OpenPCDet_Developing'),\n",
       " 'LOCAL_RANK': 0,\n",
       " 'CLASS_NAMES': ['Car', 'Pedestrian', 'Cyclist'],\n",
       " 'DATA_CONFIG': {'DATASET': 'KittiDataset',\n",
       "  'DATA_PATH': '../data/kitti',\n",
       "  'POINT_CLOUD_RANGE': [0, -40, -3, 70.4, 40, 1],\n",
       "  'DATA_SPLIT': {'train': 'train', 'test': 'val'},\n",
       "  'INFO_PATH': {'train': ['kitti_infos_train.pkl'],\n",
       "   'test': ['kitti_infos_val.pkl']},\n",
       "  'GET_ITEM_LIST': ['points'],\n",
       "  'FOV_POINTS_ONLY': True,\n",
       "  'DATA_AUGMENTOR': {'DISABLE_AUG_LIST': ['placeholder'],\n",
       "   'AUG_CONFIG_LIST': [{'NAME': 'gt_sampling',\n",
       "     'USE_ROAD_PLANE': True,\n",
       "     'DB_INFO_PATH': ['kitti_dbinfos_train.pkl'],\n",
       "     'PREPARE': {'filter_by_min_points': ['Car:5',\n",
       "       'Pedestrian:5',\n",
       "       'Cyclist:5'],\n",
       "      'filter_by_difficulty': [-1]},\n",
       "     'SAMPLE_GROUPS': ['Car:20', 'Pedestrian:15', 'Cyclist:15'],\n",
       "     'NUM_POINT_FEATURES': 4,\n",
       "     'DATABASE_WITH_FAKELIDAR': False,\n",
       "     'REMOVE_EXTRA_WIDTH': [0.0, 0.0, 0.0],\n",
       "     'LIMIT_WHOLE_SCENE': True},\n",
       "    {'NAME': 'random_world_flip', 'ALONG_AXIS_LIST': ['x']},\n",
       "    {'NAME': 'random_world_rotation',\n",
       "     'WORLD_ROT_ANGLE': [-0.78539816, 0.78539816]},\n",
       "    {'NAME': 'random_world_scaling', 'WORLD_SCALE_RANGE': [0.95, 1.05]}]},\n",
       "  'POINT_FEATURE_ENCODING': {'encoding_type': 'absolute_coordinates_encoding',\n",
       "   'used_feature_list': ['x', 'y', 'z', 'intensity'],\n",
       "   'src_feature_list': ['x', 'y', 'z', 'intensity']},\n",
       "  'DATA_PROCESSOR': [{'NAME': 'mask_points_and_boxes_outside_range',\n",
       "    'REMOVE_OUTSIDE_BOXES': True},\n",
       "   {'NAME': 'sample_points', 'NUM_POINTS': {'train': 16384, 'test': 16384}},\n",
       "   {'NAME': 'shuffle_points',\n",
       "    'SHUFFLE_ENABLED': {'train': True, 'test': False}}],\n",
       "  '_BASE_CONFIG_': 'cfgs/dataset_configs/kitti_dataset.yaml'},\n",
       " 'MODEL': {'NAME': 'PointRCNN',\n",
       "  'BACKBONE_3D': {'NAME': 'PointNet2MSG',\n",
       "   'SA_CONFIG': {'NPOINTS': [4096, 1024, 256, 64],\n",
       "    'RADIUS': [[0.1, 0.5], [0.5, 1.0], [1.0, 2.0], [2.0, 4.0]],\n",
       "    'NSAMPLE': [[16, 32], [16, 32], [16, 32], [16, 32]],\n",
       "    'MLPS': [[[16, 16, 32], [32, 32, 64]],\n",
       "     [[64, 64, 128], [64, 96, 128]],\n",
       "     [[128, 196, 256], [128, 196, 256]],\n",
       "     [[256, 256, 512], [256, 384, 512]]]},\n",
       "   'FP_MLPS': [[128, 128], [256, 256], [512, 512], [512, 512]]},\n",
       "  'POINT_HEAD': {'NAME': 'PointHeadBox',\n",
       "   'CLS_FC': [256, 256],\n",
       "   'REG_FC': [256, 256],\n",
       "   'CLASS_AGNOSTIC': False,\n",
       "   'USE_POINT_FEATURES_BEFORE_FUSION': False,\n",
       "   'TARGET_CONFIG': {'GT_EXTRA_WIDTH': [0.2, 0.2, 0.2],\n",
       "    'BOX_CODER': 'PointResidualCoder',\n",
       "    'BOX_CODER_CONFIG': {'use_mean_size': True,\n",
       "     'mean_size': [[3.9, 1.6, 1.56], [0.8, 0.6, 1.73], [1.76, 0.6, 1.73]]}},\n",
       "   'LOSS_CONFIG': {'LOSS_REG': 'WeightedSmoothL1Loss',\n",
       "    'LOSS_WEIGHTS': {'point_cls_weight': 1.0,\n",
       "     'point_box_weight': 1.0,\n",
       "     'code_weights': [1.0, 1.0, 1.0, 1.0, 1.0, 1.0, 1.0, 1.0]}}},\n",
       "  'ROI_HEAD': {'NAME': 'PointRCNNHead',\n",
       "   'CLASS_AGNOSTIC': True,\n",
       "   'ROI_POINT_POOL': {'POOL_EXTRA_WIDTH': [0.0, 0.0, 0.0],\n",
       "    'NUM_SAMPLED_POINTS': 512,\n",
       "    'DEPTH_NORMALIZER': 70.0},\n",
       "   'XYZ_UP_LAYER': [128, 128],\n",
       "   'CLS_FC': [256, 256],\n",
       "   'REG_FC': [256, 256],\n",
       "   'DP_RATIO': 0.0,\n",
       "   'USE_BN': False,\n",
       "   'SA_CONFIG': {'NPOINTS': [128, 32, -1],\n",
       "    'RADIUS': [0.2, 0.4, 100],\n",
       "    'NSAMPLE': [16, 16, 16],\n",
       "    'MLPS': [[128, 128, 128], [128, 128, 256], [256, 256, 512]]},\n",
       "   'NMS_CONFIG': {'TRAIN': {'NMS_TYPE': 'nms_gpu',\n",
       "     'MULTI_CLASSES_NMS': False,\n",
       "     'NMS_PRE_MAXSIZE': 9000,\n",
       "     'NMS_POST_MAXSIZE': 512,\n",
       "     'NMS_THRESH': 0.8},\n",
       "    'TEST': {'NMS_TYPE': 'nms_gpu',\n",
       "     'MULTI_CLASSES_NMS': False,\n",
       "     'NMS_PRE_MAXSIZE': 9000,\n",
       "     'NMS_POST_MAXSIZE': 100,\n",
       "     'NMS_THRESH': 0.85}},\n",
       "   'TARGET_CONFIG': {'BOX_CODER': 'ResidualCoder',\n",
       "    'ROI_PER_IMAGE': 128,\n",
       "    'FG_RATIO': 0.5,\n",
       "    'SAMPLE_ROI_BY_EACH_CLASS': True,\n",
       "    'CLS_SCORE_TYPE': 'cls',\n",
       "    'CLS_FG_THRESH': 0.6,\n",
       "    'CLS_BG_THRESH': 0.45,\n",
       "    'CLS_BG_THRESH_LO': 0.1,\n",
       "    'HARD_BG_RATIO': 0.8,\n",
       "    'REG_FG_THRESH': 0.55},\n",
       "   'LOSS_CONFIG': {'CLS_LOSS': 'BinaryCrossEntropy',\n",
       "    'REG_LOSS': 'smooth-l1',\n",
       "    'CORNER_LOSS_REGULARIZATION': True,\n",
       "    'LOSS_WEIGHTS': {'rcnn_cls_weight': 1.0,\n",
       "     'rcnn_reg_weight': 1.0,\n",
       "     'rcnn_corner_weight': 1.0,\n",
       "     'code_weights': [1.0, 1.0, 1.0, 1.0, 1.0, 1.0, 1.0]}}},\n",
       "  'POST_PROCESSING': {'RECALL_THRESH_LIST': [0.3, 0.5, 0.7],\n",
       "   'SCORE_THRESH': 0.1,\n",
       "   'OUTPUT_RAW_SCORE': False,\n",
       "   'EVAL_METRIC': 'kitti',\n",
       "   'NMS_CONFIG': {'MULTI_CLASSES_NMS': False,\n",
       "    'NMS_TYPE': 'nms_gpu',\n",
       "    'NMS_THRESH': 0.1,\n",
       "    'NMS_PRE_MAXSIZE': 4096,\n",
       "    'NMS_POST_MAXSIZE': 500}}},\n",
       " 'OPTIMIZATION': {'BATCH_SIZE_PER_GPU': 2,\n",
       "  'NUM_EPOCHS': 80,\n",
       "  'OPTIMIZER': 'adam_onecycle',\n",
       "  'LR': 0.01,\n",
       "  'WEIGHT_DECAY': 0.01,\n",
       "  'MOMENTUM': 0.9,\n",
       "  'MOMS': [0.95, 0.85],\n",
       "  'PCT_START': 0.4,\n",
       "  'DIV_FACTOR': 10,\n",
       "  'DECAY_STEP_LIST': [35, 45],\n",
       "  'LR_DECAY': 0.1,\n",
       "  'LR_CLIP': 1e-07,\n",
       "  'LR_WARMUP': False,\n",
       "  'WARMUP_EPOCH': 1,\n",
       "  'GRAD_NORM_CLIP': 10}}"
      ]
     },
     "execution_count": 4,
     "metadata": {},
     "output_type": "execute_result"
    }
   ],
   "source": [
    "cfg_from_yaml_file(cfg_file=cfg_file, config=cfg)"
   ]
  },
  {
   "cell_type": "code",
   "execution_count": 5,
   "metadata": {},
   "outputs": [],
   "source": [
    "class DemoDataset(DatasetTemplate):\n",
    "    def __init__(self, dataset_cfg, class_names, training=True, root_path=None, logger=None, ext='.bin'):\n",
    "        \"\"\"\n",
    "        Args:\n",
    "            root_path:\n",
    "            dataset_cfg:\n",
    "            class_names:\n",
    "            training:\n",
    "            logger:\n",
    "        \"\"\"\n",
    "        super().__init__(\n",
    "            dataset_cfg=dataset_cfg, class_names=class_names, training=training, root_path=root_path, logger=logger\n",
    "        )\n",
    "        self.root_path = root_path\n",
    "        self.ext = ext\n",
    "        data_file_list = glob.glob(str(root_path / f'*{self.ext}')) if self.root_path.is_dir() else [self.root_path]\n",
    "\n",
    "        data_file_list.sort()\n",
    "        self.sample_file_list = data_file_list\n",
    "\n",
    "    def __len__(self):\n",
    "        return len(self.sample_file_list)\n",
    "\n",
    "    def __getitem__(self, index):\n",
    "        if self.ext == '.bin':\n",
    "            points = np.fromfile(self.sample_file_list[index], dtype=np.float32).reshape(-1, 4)\n",
    "        elif self.ext == '.npy':\n",
    "            points = np.load(self.sample_file_list[index])\n",
    "        else:\n",
    "            raise NotImplementedError\n",
    "\n",
    "        input_dict = {\n",
    "            'points': points,\n",
    "            'frame_id': index,\n",
    "        }\n",
    "\n",
    "        data_dict = self.prepare_data(data_dict=input_dict)\n",
    "        return data_dict"
   ]
  },
  {
   "cell_type": "code",
   "execution_count": 9,
   "metadata": {},
   "outputs": [
    {
     "name": "stderr",
     "output_type": "stream",
     "text": [
      "2023-12-01 14:16:15,456   INFO  -----------------Quick Demo of OpenPCDet-------------------------\n",
      "2023-12-01 14:16:15,456   INFO  -----------------Quick Demo of OpenPCDet-------------------------\n",
      "2023-12-01 14:16:15,456   INFO  -----------------Quick Demo of OpenPCDet-------------------------\n"
     ]
    },
    {
     "data": {
      "text/plain": [
       "1"
      ]
     },
     "execution_count": 9,
     "metadata": {},
     "output_type": "execute_result"
    }
   ],
   "source": [
    "data_path = \"../../../Public/datasets/KITTI/training/velodyne/000000.bin\"\n",
    "ext = \".bin\"\n",
    "\n",
    "logger = common_utils.create_logger()\n",
    "logger.info('-----------------Quick Demo of OpenPCDet-------------------------')\n",
    "\n",
    "demo_dataset = DemoDataset(\n",
    "        dataset_cfg=cfg.DATA_CONFIG, class_names=cfg.CLASS_NAMES, training=False,\n",
    "        root_path=Path(data_path), ext=ext, logger=logger\n",
    "    )\n",
    "\n",
    "demo_dataset.class_names\n",
    "demo_dataset.__len__()"
   ]
  },
  {
   "cell_type": "code",
   "execution_count": 7,
   "metadata": {},
   "outputs": [],
   "source": [
    "model = build_network(cfg.MODEL, num_class=len(cfg.CLASS_NAMES), dataset=demo_dataset)"
   ]
  },
  {
   "cell_type": "code",
   "execution_count": null,
   "metadata": {},
   "outputs": [],
   "source": []
  }
 ],
 "metadata": {
  "kernelspec": {
   "display_name": "pcdet_develop",
   "language": "python",
   "name": "python3"
  },
  "language_info": {
   "codemirror_mode": {
    "name": "ipython",
    "version": 3
   },
   "file_extension": ".py",
   "mimetype": "text/x-python",
   "name": "python",
   "nbconvert_exporter": "python",
   "pygments_lexer": "ipython3",
   "version": "3.9.18"
  }
 },
 "nbformat": 4,
 "nbformat_minor": 2
}
