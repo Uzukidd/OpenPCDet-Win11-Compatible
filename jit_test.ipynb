{
 "cells": [
  {
   "cell_type": "code",
   "execution_count": 1,
   "metadata": {},
   "outputs": [],
   "source": [
    "import torch\n",
    "from pcdet.ops.iou3d_nms import iou3d_nms_cuda\n",
    "torch.ops.load_library(\".\\iou3d_nms_cuda.cp310-win_amd64.pyd\")"
   ]
  },
  {
   "cell_type": "code",
   "execution_count": 2,
   "metadata": {},
   "outputs": [],
   "source": [
    "def nms_gpu(boxes, scores, thresh, pre_maxsize=None):\n",
    "    \"\"\"\n",
    "    :param boxes: (N, 7) [x, y, z, dx, dy, dz, heading]\n",
    "    :param scores: (N)\n",
    "    :param thresh:\n",
    "    :return:\n",
    "    \"\"\"\n",
    "    \n",
    "    assert boxes.shape[1] == 7\n",
    "    order = scores.sort(0, descending=True)[1]\n",
    "    if pre_maxsize is not None:\n",
    "        order = order[:pre_maxsize]\n",
    "\n",
    "    boxes = boxes[order].contiguous()\n",
    "    keep = torch.zeros(boxes.size(0)).int()\n",
    "\n",
    "    num_out =iou3d_nms_cuda.nms_gpu(boxes, keep, thresh)\n",
    "\n",
    "    return order[keep[:num_out].long().cuda()].contiguous()\n",
    "\n",
    "def outer_nms_gpu(arg1, arg2):\n",
    "    return nms_gpu(arg1, arg2, 0.01)"
   ]
  },
  {
   "cell_type": "code",
   "execution_count": 3,
   "metadata": {},
   "outputs": [
    {
     "name": "stdout",
     "output_type": "stream",
     "text": [
      "tensor([0, 0, 0, 0, 0, 0, 0, 0, 0, 0, 0, 0, 0, 0, 0, 0, 0, 0, 0, 0, 0, 0, 0, 0,\n",
      "        0, 0, 0, 0, 0, 0, 0, 0, 0, 0, 0, 0, 0, 0, 0, 0, 0, 0, 0, 0, 0, 0, 0, 0,\n",
      "        0, 0, 0, 0, 0, 0, 0, 0, 0, 0, 0, 0, 0, 0, 0, 0, 0, 0, 0, 0, 0, 0, 0, 0,\n",
      "        0, 0, 0, 0, 0, 0, 0, 0, 0, 0, 0, 0, 0, 0, 0, 0, 0, 0, 0, 0, 0, 0, 0, 0,\n",
      "        0, 0, 0, 0, 0, 0, 0, 0, 0, 0, 0, 0, 0, 0, 0, 0, 0, 0, 0, 0, 0, 0, 0, 0,\n",
      "        0, 0, 0, 0, 0, 0, 0, 0, 0, 0, 0, 0, 0, 0, 0, 0, 0, 0, 0, 0, 0, 0, 0, 0,\n",
      "        0, 0, 0, 0, 0, 0, 0, 0, 0, 0, 0, 0, 0, 0, 0, 0, 0, 0, 0, 0, 0, 0, 0, 0,\n",
      "        0, 0, 0, 0, 0, 0, 0, 0, 0, 0, 0, 0, 0, 0, 0, 0, 0, 0, 0, 0, 0, 0],\n",
      "       dtype=torch.int32)\n",
      "tensor([[  8.6952,  -1.8287,  -0.6740,  ...,   0.6650,   1.8718,   4.7095],\n",
      "        [  1.3170,   4.3007,  -0.7707,  ...,   0.7244,   1.7644,   3.9951],\n",
      "        [  1.3303,   4.2959,  -0.7686,  ...,   0.7037,   1.7561,   6.9227],\n",
      "        ...,\n",
      "        [ 21.8648, -20.8127,  -0.5143,  ...,   0.6068,   1.8300,   1.5008],\n",
      "        [  2.1701,   3.7255,  -0.7594,  ...,   0.5264,   1.7453,   5.1931],\n",
      "        [  3.4095,   4.9170,  -0.7217,  ...,   0.5972,   1.9581,   2.8559]],\n",
      "       device='cuda:0')\n",
      "0.01\n",
      "tensor([0.8791, 0.7860, 0.7829, 0.7414, 0.7355, 0.6823, 0.6789, 0.6764, 0.6501,\n",
      "        0.6395, 0.6303, 0.5500, 0.5356, 0.5077, 0.5046, 0.4620, 0.4472, 0.4416,\n",
      "        0.4407, 0.4179, 0.4109, 0.4094, 0.3989, 0.3806, 0.3802, 0.3740, 0.3539,\n",
      "        0.3502, 0.3414, 0.3128, 0.3097, 0.3004, 0.2929, 0.2853, 0.2773, 0.2648,\n",
      "        0.2634, 0.2602, 0.2572, 0.2449, 0.2391, 0.2381, 0.2344, 0.2322, 0.2314,\n",
      "        0.2294, 0.2274, 0.2183, 0.2181, 0.2141, 0.2098, 0.1988, 0.1980, 0.1976,\n",
      "        0.1949, 0.1949, 0.1939, 0.1933, 0.1929, 0.1922, 0.1916, 0.1864, 0.1849,\n",
      "        0.1829, 0.1762, 0.1745, 0.1738, 0.1704, 0.1672, 0.1671, 0.1661, 0.1658,\n",
      "        0.1635, 0.1634, 0.1598, 0.1584, 0.1578, 0.1577, 0.1575, 0.1574, 0.1559,\n",
      "        0.1554, 0.1544, 0.1536, 0.1534, 0.1532, 0.1514, 0.1513, 0.1508, 0.1504,\n",
      "        0.1501, 0.1495, 0.1473, 0.1470, 0.1466, 0.1456, 0.1454, 0.1454, 0.1453,\n",
      "        0.1452, 0.1446, 0.1443, 0.1420, 0.1380, 0.1373, 0.1373, 0.1367, 0.1365,\n",
      "        0.1362, 0.1359, 0.1355, 0.1350, 0.1339, 0.1314, 0.1309, 0.1308, 0.1307,\n",
      "        0.1304, 0.1293, 0.1292, 0.1292, 0.1289, 0.1282, 0.1279, 0.1279, 0.1279,\n",
      "        0.1276, 0.1267, 0.1256, 0.1256, 0.1256, 0.1254, 0.1246, 0.1241, 0.1233,\n",
      "        0.1228, 0.1224, 0.1224, 0.1223, 0.1219, 0.1203, 0.1202, 0.1192, 0.1191,\n",
      "        0.1178, 0.1175, 0.1159, 0.1150, 0.1145, 0.1131, 0.1123, 0.1122, 0.1120,\n",
      "        0.1119, 0.1118, 0.1116, 0.1111, 0.1111, 0.1106, 0.1104, 0.1095, 0.1092,\n",
      "        0.1087, 0.1087, 0.1086, 0.1082, 0.1078, 0.1073, 0.1066, 0.1060, 0.1057,\n",
      "        0.1055, 0.1050, 0.1041, 0.1035, 0.1030, 0.1030, 0.1028, 0.1025, 0.1023,\n",
      "        0.1021, 0.1020, 0.1020, 0.1019, 0.1019, 0.1017, 0.1014, 0.1009, 0.1005,\n",
      "        0.1001], device='cuda:0')\n"
     ]
    }
   ],
   "source": [
    "keep = torch.load(\"./keep.pt\")\n",
    "boxes = torch.load(\"./boxes.pt\")\n",
    "scores = torch.load(\"./scores.pt\")\n",
    "thresh = torch.load(\"./thresh.pt\")\n",
    "print(keep)\n",
    "print(boxes)\n",
    "print(thresh)\n",
    "print(scores)"
   ]
  },
  {
   "cell_type": "code",
   "execution_count": 4,
   "metadata": {},
   "outputs": [
    {
     "name": "stderr",
     "output_type": "stream",
     "text": [
      "d:\\anaconda3\\envs\\env_openpcdet_test_cu118\\lib\\site-packages\\torch\\jit\\_script.py:1241: UserWarning: `optimize` is deprecated and has no effect. Use `with torch.jit.optimized_execution() instead\n",
      "  warnings.warn(\n"
     ]
    },
    {
     "ename": "RuntimeError",
     "evalue": "\nPython builtin <built-in method nms_gpu of PyCapsule object at 0x000001B5937CAC40> is currently not supported in Torchscript:\n  File \"C:\\Users\\test111\\AppData\\Local\\Temp\\ipykernel_23320\\580425827.py\", line 17\n    keep = torch.zeros(boxes.size(0)).int()\n\n    num_out =iou3d_nms_cuda.nms_gpu(boxes, keep, thresh)\n             ~~~~~~~~~~~~~~~~~~~~~~ <--- HERE\n\n    return order[keep[:num_out].long().cuda()].contiguous()\n'nms_gpu' is being compiled since it was called from 'outer_nms_gpu'\n  File \"C:\\Users\\test111\\AppData\\Local\\Temp\\ipykernel_23320\\580425827.py\", line 22\ndef outer_nms_gpu(arg1, arg2):\n    return nms_gpu(arg1, arg2, 0.01)\n           ~~~~~~~~~~~~~~~~~~~~~~~~ <--- HERE\n",
     "output_type": "error",
     "traceback": [
      "\u001b[1;31m---------------------------------------------------------------------------\u001b[0m",
      "\u001b[1;31mRuntimeError\u001b[0m                              Traceback (most recent call last)",
      "Cell \u001b[1;32mIn[4], line 1\u001b[0m\n\u001b[1;32m----> 1\u001b[0m traced_module \u001b[39m=\u001b[39m torch\u001b[39m.\u001b[39;49mjit\u001b[39m.\u001b[39;49mscript(outer_nms_gpu, (boxes[\u001b[39m0\u001b[39;49m:\u001b[39m100\u001b[39;49m], scores[\u001b[39m0\u001b[39;49m:\u001b[39m100\u001b[39;49m]))\n\u001b[0;32m      2\u001b[0m \u001b[39mprint\u001b[39m(outer_nms_gpu(boxes, scores))\n\u001b[0;32m      3\u001b[0m \u001b[39mprint\u001b[39m(traced_module(boxes, scores))\n",
      "File \u001b[1;32md:\\anaconda3\\envs\\env_openpcdet_test_cu118\\lib\\site-packages\\torch\\jit\\_script.py:1341\u001b[0m, in \u001b[0;36mscript\u001b[1;34m(obj, optimize, _frames_up, _rcb, example_inputs)\u001b[0m\n\u001b[0;32m   1339\u001b[0m \u001b[39mif\u001b[39;00m _rcb \u001b[39mis\u001b[39;00m \u001b[39mNone\u001b[39;00m:\n\u001b[0;32m   1340\u001b[0m     _rcb \u001b[39m=\u001b[39m _jit_internal\u001b[39m.\u001b[39mcreateResolutionCallbackFromClosure(obj)\n\u001b[1;32m-> 1341\u001b[0m fn \u001b[39m=\u001b[39m torch\u001b[39m.\u001b[39;49m_C\u001b[39m.\u001b[39;49m_jit_script_compile(\n\u001b[0;32m   1342\u001b[0m     qualified_name, ast, _rcb, get_default_args(obj)\n\u001b[0;32m   1343\u001b[0m )\n\u001b[0;32m   1344\u001b[0m \u001b[39m# Forward docstrings\u001b[39;00m\n\u001b[0;32m   1345\u001b[0m fn\u001b[39m.\u001b[39m\u001b[39m__doc__\u001b[39m \u001b[39m=\u001b[39m obj\u001b[39m.\u001b[39m\u001b[39m__doc__\u001b[39m\n",
      "File \u001b[1;32md:\\anaconda3\\envs\\env_openpcdet_test_cu118\\lib\\site-packages\\torch\\jit\\_recursive.py:867\u001b[0m, in \u001b[0;36mtry_compile_fn\u001b[1;34m(fn, loc)\u001b[0m\n\u001b[0;32m    863\u001b[0m \u001b[39m# We don't have the actual scope where the function was defined, but we can\u001b[39;00m\n\u001b[0;32m    864\u001b[0m \u001b[39m# extract the necessary info from the closed over variables on the function\u001b[39;00m\n\u001b[0;32m    865\u001b[0m \u001b[39m# object\u001b[39;00m\n\u001b[0;32m    866\u001b[0m rcb \u001b[39m=\u001b[39m _jit_internal\u001b[39m.\u001b[39mcreateResolutionCallbackFromClosure(fn)\n\u001b[1;32m--> 867\u001b[0m \u001b[39mreturn\u001b[39;00m torch\u001b[39m.\u001b[39;49mjit\u001b[39m.\u001b[39;49mscript(fn, _rcb\u001b[39m=\u001b[39;49mrcb)\n",
      "File \u001b[1;32md:\\anaconda3\\envs\\env_openpcdet_test_cu118\\lib\\site-packages\\torch\\jit\\_script.py:1341\u001b[0m, in \u001b[0;36mscript\u001b[1;34m(obj, optimize, _frames_up, _rcb, example_inputs)\u001b[0m\n\u001b[0;32m   1339\u001b[0m \u001b[39mif\u001b[39;00m _rcb \u001b[39mis\u001b[39;00m \u001b[39mNone\u001b[39;00m:\n\u001b[0;32m   1340\u001b[0m     _rcb \u001b[39m=\u001b[39m _jit_internal\u001b[39m.\u001b[39mcreateResolutionCallbackFromClosure(obj)\n\u001b[1;32m-> 1341\u001b[0m fn \u001b[39m=\u001b[39m torch\u001b[39m.\u001b[39;49m_C\u001b[39m.\u001b[39;49m_jit_script_compile(\n\u001b[0;32m   1342\u001b[0m     qualified_name, ast, _rcb, get_default_args(obj)\n\u001b[0;32m   1343\u001b[0m )\n\u001b[0;32m   1344\u001b[0m \u001b[39m# Forward docstrings\u001b[39;00m\n\u001b[0;32m   1345\u001b[0m fn\u001b[39m.\u001b[39m\u001b[39m__doc__\u001b[39m \u001b[39m=\u001b[39m obj\u001b[39m.\u001b[39m\u001b[39m__doc__\u001b[39m\n",
      "\u001b[1;31mRuntimeError\u001b[0m: \nPython builtin <built-in method nms_gpu of PyCapsule object at 0x000001B5937CAC40> is currently not supported in Torchscript:\n  File \"C:\\Users\\test111\\AppData\\Local\\Temp\\ipykernel_23320\\580425827.py\", line 17\n    keep = torch.zeros(boxes.size(0)).int()\n\n    num_out =iou3d_nms_cuda.nms_gpu(boxes, keep, thresh)\n             ~~~~~~~~~~~~~~~~~~~~~~ <--- HERE\n\n    return order[keep[:num_out].long().cuda()].contiguous()\n'nms_gpu' is being compiled since it was called from 'outer_nms_gpu'\n  File \"C:\\Users\\test111\\AppData\\Local\\Temp\\ipykernel_23320\\580425827.py\", line 22\ndef outer_nms_gpu(arg1, arg2):\n    return nms_gpu(arg1, arg2, 0.01)\n           ~~~~~~~~~~~~~~~~~~~~~~~~ <--- HERE\n"
     ]
    }
   ],
   "source": [
    "traced_module = torch.jit.script(outer_nms_gpu, (boxes[0:100], scores[0:100]))\n",
    "print(outer_nms_gpu(boxes, scores))\n",
    "print(traced_module(boxes, scores))\n",
    "\n",
    "\n",
    "# print(outer_nms_gpu((boxes, scores)))\n"
   ]
  },
  {
   "cell_type": "code",
   "execution_count": null,
   "metadata": {},
   "outputs": [
    {
     "name": "stdout",
     "output_type": "stream",
     "text": [
      "tensor([0, 0, 0, 0, 0, 0, 0, 0, 0, 0, 0, 0, 0, 0, 0, 0, 0, 0, 0, 0, 0, 0, 0, 0,\n",
      "        0, 0, 0, 0, 0, 0, 0, 0, 0, 0, 0, 0, 0, 0, 0, 0, 0, 0, 0, 0, 0, 0, 0, 0,\n",
      "        0, 0, 0, 0, 0, 0, 0, 0, 0, 0, 0, 0, 0, 0, 0, 0, 0, 0, 0, 0, 0, 0, 0, 0,\n",
      "        0, 0, 0, 0, 0, 0, 0, 0, 0, 0, 0, 0, 0, 0, 0, 0, 0, 0, 0, 0, 0, 0, 0, 0,\n",
      "        0, 0, 0, 0, 0, 0, 0, 0, 0, 0, 0, 0, 0, 0, 0, 0, 0, 0, 0, 0, 0, 0, 0, 0,\n",
      "        0, 0, 0, 0, 0, 0, 0, 0, 0, 0, 0, 0, 0, 0, 0, 0, 0, 0, 0, 0, 0, 0, 0, 0,\n",
      "        0, 0, 0, 0, 0, 0, 0, 0, 0, 0, 0, 0, 0, 0, 0, 0, 0, 0, 0, 0, 0, 0, 0, 0,\n",
      "        0, 0, 0, 0, 0, 0, 0, 0, 0, 0, 0, 0, 0, 0, 0, 0, 0, 0, 0, 0, 0, 0],\n",
      "       dtype=torch.int32)\n"
     ]
    }
   ],
   "source": [
    "print(keep)"
   ]
  }
 ],
 "metadata": {
  "kernelspec": {
   "display_name": "env_openpcdet_test_cu118",
   "language": "python",
   "name": "python3"
  },
  "language_info": {
   "codemirror_mode": {
    "name": "ipython",
    "version": 3
   },
   "file_extension": ".py",
   "mimetype": "text/x-python",
   "name": "python",
   "nbconvert_exporter": "python",
   "pygments_lexer": "ipython3",
   "version": "3.10.11"
  },
  "orig_nbformat": 4
 },
 "nbformat": 4,
 "nbformat_minor": 2
}
